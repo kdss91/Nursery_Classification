{
 "cells": [
  {
   "cell_type": "code",
   "execution_count": 2,
   "metadata": {},
   "outputs": [],
   "source": [
    "from sklearn.preprocessing import LabelEncoder, OneHotEncoder\n",
    "import numpy as np\n",
    "import pandas as pd\n",
    "import matplotlib.pyplot as plt\n",
    "from sklearn.model_selection import train_test_split\n",
    "import math\n",
    "import random\n",
    "import sklearn\n",
    "import copy\n",
    "from itertools import combinations\n",
    "from sklearn.metrics import confusion_matrix\n",
    "import time\n",
    "import pickle"
   ]
  },
  {
   "cell_type": "code",
   "execution_count": 11,
   "metadata": {},
   "outputs": [],
   "source": [
    "def SMO(X, y, C, tol=math.pow(10, -5), max_passes=5, degree=3):\n",
    "        # size of input vector in feature space\n",
    "        m = X.shape[0]\n",
    "        a = np.zeros((m, 1))\n",
    "        b = 0\n",
    "        passes = 0\n",
    "        E = np.zeros((m, 1))\n",
    "        # Assignment statements do not copy objects, needed so one can change one copy without changing the other\n",
    "        a_old = copy.deepcopy(a)        \n",
    "        #print(m)\n",
    "        kernel = lambda xi, yi: math.pow((np.dot(xi.T, yi) + 1), degree)\n",
    "        while passes < max_passes:\n",
    "            num_changed_alphas = 0\n",
    "            for i in range(m):\n",
    "                E[i] = f_x(X, y, a, b, X[i, :], degree) - y[i]\n",
    "                #print(\"i = %s : E_i = %s\" %(i, E[i]))\n",
    "                if (y[i]*E[i] < -tol and a[i] < C) or (y[i]*E[i] > tol and a[i] > 0):\n",
    "                    j = random.randrange(m)\n",
    "                    while j == i:\n",
    "                        j = random.randrange(m)\n",
    "                    E[j] = f_x(X, y, a, b, X[j, :], degree) - y[j]\n",
    "                    #print(\"j = %s : E_j = %s\" %(j, E[j]))\n",
    "                    # print(E[j])\n",
    "                    a_old[i] = a[i]\n",
    "                    a_old[j] = a[j]\n",
    "                    #print(\"ai %s and aj %s \" %(a[i], a[j]))\n",
    "                    # Finding L and H bounds such that L ≤ a_j ≤ H\n",
    "                    if y[i] != y[j]:\n",
    "                        L = max(0, a[j] - a[i])\n",
    "                        H = min(C, C + a[j] - a[i])\n",
    "                    else:\n",
    "                        L = max(0, a[i] + a[j] - C)\n",
    "                        H = min(C, a[i] + a[j])\n",
    "                    if L == H:\n",
    "                        continue\n",
    "                    #print(\"L %s and H %s \" %(L, H))\n",
    "                    # calculating the value of eeta\n",
    "                    n = 2*kernel(X[i, :], X[j, :]) - kernel(X[i, :], X[i, :]) - kernel(X[j, :], X[j, :])\n",
    "                    #print(\"eta : %s and C : %s \" %(n, C))\n",
    "                    if n >= 0:\n",
    "                        continue\n",
    "                    # updating the value of alpha j\n",
    "                    a[j] = a[j] - ((y[j] * (E[i] - E[j])) / n)\n",
    "                    if a[j] > H:\n",
    "                        a[j] = H\n",
    "                    elif a[j] < L:\n",
    "                        a[j] = L                   \n",
    "                    if abs(a[j] - a_old[j]) < tol:\n",
    "                        continue\n",
    "                    # updating the value of alpha i\n",
    "                    a[i] = a[i] + y[i]*y[j]*(a_old[j] - a[j])\n",
    "                    #print(\"New : ai %s and aj %s \" %(a[i], a[j]))\n",
    "                    # now need to calculate the bias term\n",
    "                    b1 = b - E[i] - (y[i] * (a[i] - a_old[i]) * kernel(X[i, :], X[i, :])) - \\\n",
    "                         (y[j] * (a[j] - a_old[j]) * kernel(X[i, :], X[j, :]))\n",
    "                    b2 = b - E[j] - (y[i] * (a[i] - a_old[i]) * kernel(X[i, :], X[j, :])) - \\\n",
    "                         (y[j] * kernel(X[j, :], X[j, :]) * (a[j] - a_old[j]))\n",
    "                    if a[i] > 0 and a[i] < C:\n",
    "                        b = b1\n",
    "                    elif a[j] > 0 and a[j] < C:\n",
    "                        b = b2\n",
    "                    else:\n",
    "                        b = (b1 + b2) / 2\n",
    "                    num_changed_alphas += 1\n",
    "                # End if\n",
    "            # End for\n",
    "            if num_changed_alphas == 0:\n",
    "                passes += 1\n",
    "            else:\n",
    "                passes = 0\n",
    "        # end while\n",
    "        return a, b"
   ]
  },
  {
   "cell_type": "code",
   "execution_count": 3,
   "metadata": {},
   "outputs": [],
   "source": [
    "def f_x(X, y, a, b, x, degree):\n",
    "    predicted_value = 0.0\n",
    "    # using polynomial kernel\n",
    "    for k in range(X.shape[0]):\n",
    "        #print(X[k, :].T@x)\n",
    "        predicted_value += (a[k]*y[k]*((X[k, :].T@x + 1)**degree))\n",
    "    return predicted_value + b"
   ]
  },
  {
   "cell_type": "code",
   "execution_count": 3,
   "metadata": {},
   "outputs": [],
   "source": [
    "infile = open('train9.pkl','rb')\n",
    "X_subclass = pickle.load(infile)\n",
    "infile.close()\n",
    "infile = open('test9.pkl','rb')\n",
    "y_subclass = pickle.load(infile)\n",
    "infile.close()"
   ]
  },
  {
   "cell_type": "code",
   "execution_count": null,
   "metadata": {},
   "outputs": [],
   "source": []
  },
  {
   "cell_type": "code",
   "execution_count": 179,
   "metadata": {},
   "outputs": [],
   "source": [
    "alpha, bias = SMO(X_subclass, y_subclass, 0.1)"
   ]
  },
  {
   "cell_type": "code",
   "execution_count": 180,
   "metadata": {},
   "outputs": [
    {
     "data": {
      "text/plain": [
       "(6655,)"
      ]
     },
     "execution_count": 180,
     "metadata": {},
     "output_type": "execute_result"
    }
   ],
   "source": [
    "y_subclass.shape"
   ]
  },
  {
   "cell_type": "code",
   "execution_count": 181,
   "metadata": {},
   "outputs": [
    {
     "data": {
      "text/plain": [
       "(6655, 1)"
      ]
     },
     "execution_count": 181,
     "metadata": {},
     "output_type": "execute_result"
    }
   ],
   "source": [
    "alpha.shape"
   ]
  },
  {
   "cell_type": "code",
   "execution_count": 182,
   "metadata": {},
   "outputs": [],
   "source": [
    "filename = 'alpha9.pkl'\n",
    "outfile = open(filename,'wb')\n",
    "pickle.dump(alpha,outfile)\n",
    "outfile.close()"
   ]
  },
  {
   "cell_type": "code",
   "execution_count": 183,
   "metadata": {},
   "outputs": [],
   "source": [
    "filename = 'bias9.pkl'\n",
    "outfile = open(filename,'wb')\n",
    "pickle.dump(bias,outfile)\n",
    "outfile.close()"
   ]
  },
  {
   "cell_type": "code",
   "execution_count": 10,
   "metadata": {},
   "outputs": [
    {
     "name": "stdout",
     "output_type": "stream",
     "text": [
      "955\n",
      "0.6319845857418112\n",
      "695.763986825943\n"
     ]
    }
   ],
   "source": [
    "predicted_values = np.zeros((y_test.shape[0], 5))\n",
    "OvO = list(combinations(['not_recom', 'recommend', 'very_recom', 'priority', 'spec_prior'], 2))\n",
    "start = time.time()\n",
    "k = 0\n",
    "for i in OvO:\n",
    "    #print(i)\n",
    "    filename = 'alpha'+str(k)+'.pkl'\n",
    "    infile = open(filename,'rb')\n",
    "    alpha = pickle.load(infile)\n",
    "    infile.close\n",
    "    filename = 'bias'+str(k)+'.pkl'\n",
    "    infile = open(filename,'rb')\n",
    "    bias = pickle.load(infile)\n",
    "    infile.close\n",
    "    infile = open('train'+str(k)+'.pkl','rb')\n",
    "    X_subclass = pickle.load(infile)\n",
    "    infile.close()\n",
    "    infile = open('test'+str(k)+'.pkl','rb')\n",
    "    y_subclass = pickle.load(infile)\n",
    "    infile.close()\n",
    "    k += 1\n",
    "    y_predict = np.zeros((y_test.shape[0], 1))\n",
    "    for l in range(X_test.shape[0]):\n",
    "        #print(f_x(X_subclass, y_subclass, alpha, bias, X_test[l, :], 3))\n",
    "        if f_x(X_subclass, y_subclass, alpha, bias, X_test[l, :], 3) >= 0:\n",
    "            y_predict[l] = 1.0\n",
    "        else:\n",
    "            y_predict[l] = -1.0\n",
    "    for j in range(y_predict.shape[0]):\n",
    "        if i[0] == \"not_recom\" and y_predict[j] == 1:\n",
    "            predicted_values[j][0] += 1\n",
    "        elif i[1] == \"not_recom\" and y_predict[j] == -1:\n",
    "            predicted_values[j][0] += 1\n",
    "        if i[0] == \"recommend\" and y_predict[j] == 1:\n",
    "            predicted_values[j][1] += 1\n",
    "        elif i[1] == \"recommend\" and y_predict[j] == -1:\n",
    "            predicted_values[j][1] += 1\n",
    "        if i[0] == \"very_recom\" and y_predict[j] == 1:\n",
    "            predicted_values[j][2] += 1\n",
    "        elif i[1] == \"very_recom\" and y_predict[j] == -1:\n",
    "            predicted_values[j][2] += 1\n",
    "        if i[0] == \"priority\" and y_predict[j] == 1:\n",
    "            predicted_values[j][3] += 1\n",
    "        elif i[1] == \"priority\" and y_predict[j] == -1:\n",
    "            predicted_values[j][3] += 1\n",
    "        if i[0] == \"spec_prior\" and y_predict[j] == 1:\n",
    "            predicted_values[j][4] += 1\n",
    "        elif i[1] == \"spec_prior\" and y_predict[j] == -1:\n",
    "            predicted_values[j][4] += 1\n",
    "print(accuracy_check(predicted_values))\n",
    "end = time.time()\n",
    "print(end - start)"
   ]
  },
  {
   "cell_type": "code",
   "execution_count": 4,
   "metadata": {},
   "outputs": [
    {
     "data": {
      "text/plain": [
       "<function BufferedReader.close>"
      ]
     },
     "execution_count": 4,
     "metadata": {},
     "output_type": "execute_result"
    }
   ],
   "source": [
    "filename = 'X_test.pkl'\n",
    "infile = open(filename,'rb')\n",
    "X_test = pickle.load(infile)\n",
    "infile.close"
   ]
  },
  {
   "cell_type": "code",
   "execution_count": 5,
   "metadata": {},
   "outputs": [
    {
     "data": {
      "text/plain": [
       "<function BufferedReader.close>"
      ]
     },
     "execution_count": 5,
     "metadata": {},
     "output_type": "execute_result"
    }
   ],
   "source": [
    "filename = 'y_test.pkl'\n",
    "infile = open(filename,'rb')\n",
    "y_test = pickle.load(infile)\n",
    "infile.close"
   ]
  },
  {
   "cell_type": "code",
   "execution_count": 7,
   "metadata": {},
   "outputs": [
    {
     "data": {
      "text/plain": [
       "array([0., 1., 0., 0., 0., 0., 1., 0., 0., 0., 1., 0., 0., 1., 0., 0., 1.,\n",
       "       0., 0., 1., 0., 0., 1., 0., 1., 0., 0.])"
      ]
     },
     "execution_count": 7,
     "metadata": {},
     "output_type": "execute_result"
    }
   ],
   "source": [
    "X_test[0]"
   ]
  },
  {
   "cell_type": "code",
   "execution_count": 9,
   "metadata": {},
   "outputs": [
    {
     "ename": "NameError",
     "evalue": "name 'X_subclass' is not defined",
     "output_type": "error",
     "traceback": [
      "\u001b[1;31m---------------------------------------------------------------------------\u001b[0m",
      "\u001b[1;31mNameError\u001b[0m                                 Traceback (most recent call last)",
      "\u001b[1;32m<ipython-input-9-f8050d343c53>\u001b[0m in \u001b[0;36m<module>\u001b[1;34m\u001b[0m\n\u001b[1;32m----> 1\u001b[1;33m \u001b[0mf_x\u001b[0m\u001b[1;33m(\u001b[0m\u001b[0mX_subclass\u001b[0m\u001b[1;33m,\u001b[0m \u001b[0my_subclass\u001b[0m\u001b[1;33m,\u001b[0m \u001b[0malpha\u001b[0m\u001b[1;33m,\u001b[0m \u001b[0mbias\u001b[0m\u001b[1;33m,\u001b[0m \u001b[0mX_test\u001b[0m\u001b[1;33m[\u001b[0m\u001b[1;36m0\u001b[0m\u001b[1;33m,\u001b[0m \u001b[1;33m:\u001b[0m\u001b[1;33m]\u001b[0m\u001b[1;33m,\u001b[0m \u001b[1;36m3\u001b[0m\u001b[1;33m)\u001b[0m\u001b[1;33m\u001b[0m\u001b[1;33m\u001b[0m\u001b[0m\n\u001b[0m",
      "\u001b[1;31mNameError\u001b[0m: name 'X_subclass' is not defined"
     ]
    }
   ],
   "source": [
    "f_x(X_subclass, y_subclass, alpha, bias, X_test[0, :], 3)"
   ]
  },
  {
   "cell_type": "code",
   "execution_count": 8,
   "metadata": {},
   "outputs": [
    {
     "ename": "NameError",
     "evalue": "name 'predicted_values' is not defined",
     "output_type": "error",
     "traceback": [
      "\u001b[1;31m---------------------------------------------------------------------------\u001b[0m",
      "\u001b[1;31mNameError\u001b[0m                                 Traceback (most recent call last)",
      "\u001b[1;32m<ipython-input-8-0445fa7f0837>\u001b[0m in \u001b[0;36m<module>\u001b[1;34m\u001b[0m\n\u001b[1;32m----> 1\u001b[1;33m \u001b[0mpredicted_values\u001b[0m\u001b[1;33m\u001b[0m\u001b[1;33m\u001b[0m\u001b[0m\n\u001b[0m",
      "\u001b[1;31mNameError\u001b[0m: name 'predicted_values' is not defined"
     ]
    }
   ],
   "source": [
    "predicted_values"
   ]
  },
  {
   "cell_type": "code",
   "execution_count": 7,
   "metadata": {},
   "outputs": [],
   "source": [
    "def accuracy_check(predicted):\n",
    "    error = 0\n",
    "    for i in range(predicted.shape[0]):\n",
    "        check = np.where(predicted[i] == max(predicted[i]))[0][0]\n",
    "        if check == 0:\n",
    "            if y_test[i] != \"not_recom\":                \n",
    "                error += 1\n",
    "        elif check == 1:\n",
    "            if y_test[i] != \"recommend\":                \n",
    "                error += 1\n",
    "        elif check == 2:\n",
    "            if y_test[i] != \"very_recom\":\n",
    "                #print(predicted[i])\n",
    "                #print(y_test[i])\n",
    "                error += 1\n",
    "        elif check == 3:\n",
    "            if y_test[i] != \"priority\":\n",
    "                error += 1\n",
    "        elif check == 4:\n",
    "            if y_test[i] != \"spec_prior\":\n",
    "                error += 1\n",
    "    print(error)\n",
    "    return (1-((error/predicted.shape[0])))"
   ]
  },
  {
   "cell_type": "code",
   "execution_count": 193,
   "metadata": {},
   "outputs": [],
   "source": [
    "X_test = X_test[0:5]\n",
    "y_test = y_test[0:5]"
   ]
  }
 ],
 "metadata": {
  "kernelspec": {
   "display_name": "Python 3",
   "language": "python",
   "name": "python3"
  },
  "language_info": {
   "codemirror_mode": {
    "name": "ipython",
    "version": 3
   },
   "file_extension": ".py",
   "mimetype": "text/x-python",
   "name": "python",
   "nbconvert_exporter": "python",
   "pygments_lexer": "ipython3",
   "version": "3.7.3"
  }
 },
 "nbformat": 4,
 "nbformat_minor": 2
}
